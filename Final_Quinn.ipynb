{
 "cells": [
  {
   "cell_type": "code",
   "execution_count": 1,
   "metadata": {},
   "outputs": [],
   "source": [
    "import os"
   ]
  },
  {
   "cell_type": "code",
   "execution_count": 2,
   "metadata": {},
   "outputs": [
    {
     "data": {
      "text/plain": [
       "'/Users/zachquinn'"
      ]
     },
     "execution_count": 2,
     "metadata": {},
     "output_type": "execute_result"
    }
   ],
   "source": [
    "# Get working directory. \n",
    "\n",
    "os.getcwd()"
   ]
  },
  {
   "cell_type": "code",
   "execution_count": 3,
   "metadata": {},
   "outputs": [],
   "source": [
    "# Import numpy, pandas, math, statsmodels, seaborn, pylab and sklearn.  \n",
    "\n",
    "import numpy as np\n",
    "import statistics\n",
    "from numpy import array \n",
    "import pandas as pd\n",
    "import math\n",
    "import statsmodels.api as sm\n",
    "import matplotlib.pyplot as plt\n",
    "import seaborn as sns\n",
    "sns.set(color_codes=True)\n",
    "from IPython.display import Math, Latex\n",
    "from IPython.core.display import Image\n",
    "import pylab \n",
    "from scipy.stats import uniform\n",
    "import sklearn\n",
    "from sklearn import linear_model\n",
    "from sklearn.linear_model import LinearRegression \n",
    "from sklearn.model_selection import train_test_split\n",
    "from sklearn.metrics import mean_squared_error, r2_score, mean_absolute_error\n",
    "from scipy import stats \n",
    "from scipy.stats import kurtosis, skew\n",
    "from sklearn.preprocessing import scale\n",
    "from collections import Counter \n",
    "%matplotlib inline"
   ]
  },
  {
   "cell_type": "code",
   "execution_count": 4,
   "metadata": {},
   "outputs": [],
   "source": [
    "# Read data set CSV file \n",
    "stream_movie = pd.read_csv('/Users/zachquinn/Desktop/DSC_500/MoviesOnStreamingPlatforms_updated.csv')"
   ]
  },
  {
   "cell_type": "code",
   "execution_count": 5,
   "metadata": {},
   "outputs": [
    {
     "data": {
      "text/html": [
       "<div>\n",
       "<style scoped>\n",
       "    .dataframe tbody tr th:only-of-type {\n",
       "        vertical-align: middle;\n",
       "    }\n",
       "\n",
       "    .dataframe tbody tr th {\n",
       "        vertical-align: top;\n",
       "    }\n",
       "\n",
       "    .dataframe thead th {\n",
       "        text-align: right;\n",
       "    }\n",
       "</style>\n",
       "<table border=\"1\" class=\"dataframe\">\n",
       "  <thead>\n",
       "    <tr style=\"text-align: right;\">\n",
       "      <th></th>\n",
       "      <th>Unnamed: 0</th>\n",
       "      <th>ID</th>\n",
       "      <th>Title</th>\n",
       "      <th>Year</th>\n",
       "      <th>Age</th>\n",
       "      <th>IMDb</th>\n",
       "      <th>Rotten Tomatoes</th>\n",
       "      <th>Netflix</th>\n",
       "      <th>Hulu</th>\n",
       "      <th>Prime Video</th>\n",
       "      <th>Disney+</th>\n",
       "      <th>Type</th>\n",
       "      <th>Directors</th>\n",
       "      <th>Genres</th>\n",
       "      <th>Country</th>\n",
       "      <th>Language</th>\n",
       "      <th>Runtime</th>\n",
       "    </tr>\n",
       "  </thead>\n",
       "  <tbody>\n",
       "    <tr>\n",
       "      <th>0</th>\n",
       "      <td>0</td>\n",
       "      <td>1</td>\n",
       "      <td>Inception</td>\n",
       "      <td>2010</td>\n",
       "      <td>13+</td>\n",
       "      <td>8.8</td>\n",
       "      <td>87%</td>\n",
       "      <td>1</td>\n",
       "      <td>0</td>\n",
       "      <td>0</td>\n",
       "      <td>0</td>\n",
       "      <td>0</td>\n",
       "      <td>Christopher Nolan</td>\n",
       "      <td>Action,Adventure,Sci-Fi,Thriller</td>\n",
       "      <td>United States,United Kingdom</td>\n",
       "      <td>English,Japanese,French</td>\n",
       "      <td>148.0</td>\n",
       "    </tr>\n",
       "    <tr>\n",
       "      <th>1</th>\n",
       "      <td>1</td>\n",
       "      <td>2</td>\n",
       "      <td>The Matrix</td>\n",
       "      <td>1999</td>\n",
       "      <td>18+</td>\n",
       "      <td>8.7</td>\n",
       "      <td>87%</td>\n",
       "      <td>1</td>\n",
       "      <td>0</td>\n",
       "      <td>0</td>\n",
       "      <td>0</td>\n",
       "      <td>0</td>\n",
       "      <td>Lana Wachowski,Lilly Wachowski</td>\n",
       "      <td>Action,Sci-Fi</td>\n",
       "      <td>United States</td>\n",
       "      <td>English</td>\n",
       "      <td>136.0</td>\n",
       "    </tr>\n",
       "    <tr>\n",
       "      <th>2</th>\n",
       "      <td>2</td>\n",
       "      <td>3</td>\n",
       "      <td>Avengers: Infinity War</td>\n",
       "      <td>2018</td>\n",
       "      <td>13+</td>\n",
       "      <td>8.5</td>\n",
       "      <td>84%</td>\n",
       "      <td>1</td>\n",
       "      <td>0</td>\n",
       "      <td>0</td>\n",
       "      <td>0</td>\n",
       "      <td>0</td>\n",
       "      <td>Anthony Russo,Joe Russo</td>\n",
       "      <td>Action,Adventure,Sci-Fi</td>\n",
       "      <td>United States</td>\n",
       "      <td>English</td>\n",
       "      <td>149.0</td>\n",
       "    </tr>\n",
       "    <tr>\n",
       "      <th>3</th>\n",
       "      <td>3</td>\n",
       "      <td>4</td>\n",
       "      <td>Back to the Future</td>\n",
       "      <td>1985</td>\n",
       "      <td>7+</td>\n",
       "      <td>8.5</td>\n",
       "      <td>96%</td>\n",
       "      <td>1</td>\n",
       "      <td>0</td>\n",
       "      <td>0</td>\n",
       "      <td>0</td>\n",
       "      <td>0</td>\n",
       "      <td>Robert Zemeckis</td>\n",
       "      <td>Adventure,Comedy,Sci-Fi</td>\n",
       "      <td>United States</td>\n",
       "      <td>English</td>\n",
       "      <td>116.0</td>\n",
       "    </tr>\n",
       "    <tr>\n",
       "      <th>4</th>\n",
       "      <td>4</td>\n",
       "      <td>5</td>\n",
       "      <td>The Good, the Bad and the Ugly</td>\n",
       "      <td>1966</td>\n",
       "      <td>18+</td>\n",
       "      <td>8.8</td>\n",
       "      <td>97%</td>\n",
       "      <td>1</td>\n",
       "      <td>0</td>\n",
       "      <td>1</td>\n",
       "      <td>0</td>\n",
       "      <td>0</td>\n",
       "      <td>Sergio Leone</td>\n",
       "      <td>Western</td>\n",
       "      <td>Italy,Spain,West Germany</td>\n",
       "      <td>Italian</td>\n",
       "      <td>161.0</td>\n",
       "    </tr>\n",
       "  </tbody>\n",
       "</table>\n",
       "</div>"
      ],
      "text/plain": [
       "   Unnamed: 0  ID                           Title  Year  Age  IMDb  \\\n",
       "0           0   1                       Inception  2010  13+   8.8   \n",
       "1           1   2                      The Matrix  1999  18+   8.7   \n",
       "2           2   3          Avengers: Infinity War  2018  13+   8.5   \n",
       "3           3   4              Back to the Future  1985   7+   8.5   \n",
       "4           4   5  The Good, the Bad and the Ugly  1966  18+   8.8   \n",
       "\n",
       "  Rotten Tomatoes  Netflix  Hulu  Prime Video  Disney+  Type  \\\n",
       "0             87%        1     0            0        0     0   \n",
       "1             87%        1     0            0        0     0   \n",
       "2             84%        1     0            0        0     0   \n",
       "3             96%        1     0            0        0     0   \n",
       "4             97%        1     0            1        0     0   \n",
       "\n",
       "                        Directors                            Genres  \\\n",
       "0               Christopher Nolan  Action,Adventure,Sci-Fi,Thriller   \n",
       "1  Lana Wachowski,Lilly Wachowski                     Action,Sci-Fi   \n",
       "2         Anthony Russo,Joe Russo           Action,Adventure,Sci-Fi   \n",
       "3                 Robert Zemeckis           Adventure,Comedy,Sci-Fi   \n",
       "4                    Sergio Leone                           Western   \n",
       "\n",
       "                        Country                 Language  Runtime  \n",
       "0  United States,United Kingdom  English,Japanese,French    148.0  \n",
       "1                 United States                  English    136.0  \n",
       "2                 United States                  English    149.0  \n",
       "3                 United States                  English    116.0  \n",
       "4      Italy,Spain,West Germany                  Italian    161.0  "
      ]
     },
     "execution_count": 5,
     "metadata": {},
     "output_type": "execute_result"
    }
   ],
   "source": [
    "# Display first five rows of stream_movie dataset \n",
    "stream_movie.head()"
   ]
  },
  {
   "cell_type": "code",
   "execution_count": 6,
   "metadata": {},
   "outputs": [
    {
     "data": {
      "text/plain": [
       "(16744, 17)"
      ]
     },
     "execution_count": 6,
     "metadata": {},
     "output_type": "execute_result"
    }
   ],
   "source": [
    "# Display structure of data set \n",
    "stream_movie.shape"
   ]
  },
  {
   "cell_type": "code",
   "execution_count": 7,
   "metadata": {},
   "outputs": [
    {
     "data": {
      "text/plain": [
       "Index(['Unnamed: 0', 'ID', 'Title', 'Year', 'Age', 'IMDb', 'Rotten Tomatoes',\n",
       "       'Netflix', 'Hulu', 'Prime Video', 'Disney+', 'Type', 'Directors',\n",
       "       'Genres', 'Country', 'Language', 'Runtime'],\n",
       "      dtype='object')"
      ]
     },
     "execution_count": 7,
     "metadata": {},
     "output_type": "execute_result"
    }
   ],
   "source": [
    "# View columns \n",
    "stream_movie.columns"
   ]
  },
  {
   "cell_type": "code",
   "execution_count": 8,
   "metadata": {},
   "outputs": [
    {
     "data": {
      "text/plain": [
       "Unnamed: 0             0\n",
       "ID                     0\n",
       "Title                  0\n",
       "Year                   0\n",
       "Age                 9390\n",
       "IMDb                 571\n",
       "Rotten Tomatoes    11586\n",
       "Netflix                0\n",
       "Hulu                   0\n",
       "Prime Video            0\n",
       "Disney+                0\n",
       "Type                   0\n",
       "Directors            726\n",
       "Genres               275\n",
       "Country              435\n",
       "Language             599\n",
       "Runtime              592\n",
       "dtype: int64"
      ]
     },
     "execution_count": 8,
     "metadata": {},
     "output_type": "execute_result"
    }
   ],
   "source": [
    "# View null values \n",
    "stream_movie.isnull().sum()"
   ]
  },
  {
   "cell_type": "code",
   "execution_count": 99,
   "metadata": {},
   "outputs": [
    {
     "data": {
      "text/html": [
       "<div>\n",
       "<style scoped>\n",
       "    .dataframe tbody tr th:only-of-type {\n",
       "        vertical-align: middle;\n",
       "    }\n",
       "\n",
       "    .dataframe tbody tr th {\n",
       "        vertical-align: top;\n",
       "    }\n",
       "\n",
       "    .dataframe thead th {\n",
       "        text-align: right;\n",
       "    }\n",
       "</style>\n",
       "<table border=\"1\" class=\"dataframe\">\n",
       "  <thead>\n",
       "    <tr style=\"text-align: right;\">\n",
       "      <th></th>\n",
       "      <th>Unnamed: 0</th>\n",
       "      <th>ID</th>\n",
       "      <th>Title</th>\n",
       "      <th>Year</th>\n",
       "      <th>Age</th>\n",
       "      <th>IMDb</th>\n",
       "      <th>Rotten Tomatoes</th>\n",
       "      <th>Netflix</th>\n",
       "      <th>Hulu</th>\n",
       "      <th>Prime Video</th>\n",
       "      <th>Disney+</th>\n",
       "      <th>Type</th>\n",
       "      <th>Directors</th>\n",
       "      <th>Genres</th>\n",
       "      <th>Country</th>\n",
       "      <th>Language</th>\n",
       "      <th>Runtime</th>\n",
       "    </tr>\n",
       "  </thead>\n",
       "  <tbody>\n",
       "    <tr>\n",
       "      <th>0</th>\n",
       "      <td>0</td>\n",
       "      <td>1</td>\n",
       "      <td>Inception</td>\n",
       "      <td>2010</td>\n",
       "      <td>13+</td>\n",
       "      <td>8.8</td>\n",
       "      <td>87%</td>\n",
       "      <td>1</td>\n",
       "      <td>0</td>\n",
       "      <td>0</td>\n",
       "      <td>0</td>\n",
       "      <td>0</td>\n",
       "      <td>Christopher Nolan</td>\n",
       "      <td>Action,Adventure,Sci-Fi,Thriller</td>\n",
       "      <td>United States,United Kingdom</td>\n",
       "      <td>English,Japanese,French</td>\n",
       "      <td>148.0</td>\n",
       "    </tr>\n",
       "    <tr>\n",
       "      <th>1</th>\n",
       "      <td>1</td>\n",
       "      <td>2</td>\n",
       "      <td>The Matrix</td>\n",
       "      <td>1999</td>\n",
       "      <td>18+</td>\n",
       "      <td>8.7</td>\n",
       "      <td>87%</td>\n",
       "      <td>1</td>\n",
       "      <td>0</td>\n",
       "      <td>0</td>\n",
       "      <td>0</td>\n",
       "      <td>0</td>\n",
       "      <td>Lana Wachowski,Lilly Wachowski</td>\n",
       "      <td>Action,Sci-Fi</td>\n",
       "      <td>United States</td>\n",
       "      <td>English</td>\n",
       "      <td>136.0</td>\n",
       "    </tr>\n",
       "    <tr>\n",
       "      <th>2</th>\n",
       "      <td>2</td>\n",
       "      <td>3</td>\n",
       "      <td>Avengers: Infinity War</td>\n",
       "      <td>2018</td>\n",
       "      <td>13+</td>\n",
       "      <td>8.5</td>\n",
       "      <td>84%</td>\n",
       "      <td>1</td>\n",
       "      <td>0</td>\n",
       "      <td>0</td>\n",
       "      <td>0</td>\n",
       "      <td>0</td>\n",
       "      <td>Anthony Russo,Joe Russo</td>\n",
       "      <td>Action,Adventure,Sci-Fi</td>\n",
       "      <td>United States</td>\n",
       "      <td>English</td>\n",
       "      <td>149.0</td>\n",
       "    </tr>\n",
       "    <tr>\n",
       "      <th>3</th>\n",
       "      <td>3</td>\n",
       "      <td>4</td>\n",
       "      <td>Back to the Future</td>\n",
       "      <td>1985</td>\n",
       "      <td>7+</td>\n",
       "      <td>8.5</td>\n",
       "      <td>96%</td>\n",
       "      <td>1</td>\n",
       "      <td>0</td>\n",
       "      <td>0</td>\n",
       "      <td>0</td>\n",
       "      <td>0</td>\n",
       "      <td>Robert Zemeckis</td>\n",
       "      <td>Adventure,Comedy,Sci-Fi</td>\n",
       "      <td>United States</td>\n",
       "      <td>English</td>\n",
       "      <td>116.0</td>\n",
       "    </tr>\n",
       "    <tr>\n",
       "      <th>4</th>\n",
       "      <td>4</td>\n",
       "      <td>5</td>\n",
       "      <td>The Good, the Bad and the Ugly</td>\n",
       "      <td>1966</td>\n",
       "      <td>18+</td>\n",
       "      <td>8.8</td>\n",
       "      <td>97%</td>\n",
       "      <td>1</td>\n",
       "      <td>0</td>\n",
       "      <td>1</td>\n",
       "      <td>0</td>\n",
       "      <td>0</td>\n",
       "      <td>Sergio Leone</td>\n",
       "      <td>Western</td>\n",
       "      <td>Italy,Spain,West Germany</td>\n",
       "      <td>Italian</td>\n",
       "      <td>161.0</td>\n",
       "    </tr>\n",
       "    <tr>\n",
       "      <th>...</th>\n",
       "      <td>...</td>\n",
       "      <td>...</td>\n",
       "      <td>...</td>\n",
       "      <td>...</td>\n",
       "      <td>...</td>\n",
       "      <td>...</td>\n",
       "      <td>...</td>\n",
       "      <td>...</td>\n",
       "      <td>...</td>\n",
       "      <td>...</td>\n",
       "      <td>...</td>\n",
       "      <td>...</td>\n",
       "      <td>...</td>\n",
       "      <td>...</td>\n",
       "      <td>...</td>\n",
       "      <td>...</td>\n",
       "      <td>...</td>\n",
       "    </tr>\n",
       "    <tr>\n",
       "      <th>16657</th>\n",
       "      <td>16657</td>\n",
       "      <td>16658</td>\n",
       "      <td>A Kid in King Arthur's Court</td>\n",
       "      <td>1995</td>\n",
       "      <td>7+</td>\n",
       "      <td>4.7</td>\n",
       "      <td>5%</td>\n",
       "      <td>0</td>\n",
       "      <td>0</td>\n",
       "      <td>0</td>\n",
       "      <td>1</td>\n",
       "      <td>0</td>\n",
       "      <td>Michael Gottlieb</td>\n",
       "      <td>Adventure,Comedy,Family,Fantasy,Romance</td>\n",
       "      <td>United States,Hungary,United Kingdom</td>\n",
       "      <td>English</td>\n",
       "      <td>89.0</td>\n",
       "    </tr>\n",
       "    <tr>\n",
       "      <th>16671</th>\n",
       "      <td>16671</td>\n",
       "      <td>16672</td>\n",
       "      <td>George of the Jungle 2</td>\n",
       "      <td>2003</td>\n",
       "      <td>7+</td>\n",
       "      <td>3.3</td>\n",
       "      <td>17%</td>\n",
       "      <td>0</td>\n",
       "      <td>0</td>\n",
       "      <td>0</td>\n",
       "      <td>1</td>\n",
       "      <td>0</td>\n",
       "      <td>David Grossman</td>\n",
       "      <td>Adventure,Comedy,Family</td>\n",
       "      <td>United States,Australia</td>\n",
       "      <td>English</td>\n",
       "      <td>87.0</td>\n",
       "    </tr>\n",
       "    <tr>\n",
       "      <th>16677</th>\n",
       "      <td>16677</td>\n",
       "      <td>16678</td>\n",
       "      <td>That Darn Cat</td>\n",
       "      <td>1997</td>\n",
       "      <td>7+</td>\n",
       "      <td>4.7</td>\n",
       "      <td>13%</td>\n",
       "      <td>0</td>\n",
       "      <td>0</td>\n",
       "      <td>0</td>\n",
       "      <td>1</td>\n",
       "      <td>0</td>\n",
       "      <td>Robert Stevenson</td>\n",
       "      <td>Comedy,Crime,Family,Thriller</td>\n",
       "      <td>United States</td>\n",
       "      <td>English,French</td>\n",
       "      <td>116.0</td>\n",
       "    </tr>\n",
       "    <tr>\n",
       "      <th>16687</th>\n",
       "      <td>16687</td>\n",
       "      <td>16688</td>\n",
       "      <td>Kazaam</td>\n",
       "      <td>1996</td>\n",
       "      <td>7+</td>\n",
       "      <td>3.0</td>\n",
       "      <td>6%</td>\n",
       "      <td>0</td>\n",
       "      <td>0</td>\n",
       "      <td>0</td>\n",
       "      <td>1</td>\n",
       "      <td>0</td>\n",
       "      <td>Paul Michael Glaser</td>\n",
       "      <td>Comedy,Family,Fantasy,Musical</td>\n",
       "      <td>United States</td>\n",
       "      <td>English</td>\n",
       "      <td>93.0</td>\n",
       "    </tr>\n",
       "    <tr>\n",
       "      <th>16705</th>\n",
       "      <td>16705</td>\n",
       "      <td>16706</td>\n",
       "      <td>Meet the Deedles</td>\n",
       "      <td>1998</td>\n",
       "      <td>7+</td>\n",
       "      <td>4.1</td>\n",
       "      <td>7%</td>\n",
       "      <td>0</td>\n",
       "      <td>0</td>\n",
       "      <td>0</td>\n",
       "      <td>1</td>\n",
       "      <td>0</td>\n",
       "      <td>Steve Boyum</td>\n",
       "      <td>Comedy,Family</td>\n",
       "      <td>United States</td>\n",
       "      <td>English</td>\n",
       "      <td>93.0</td>\n",
       "    </tr>\n",
       "  </tbody>\n",
       "</table>\n",
       "<p>3301 rows × 17 columns</p>\n",
       "</div>"
      ],
      "text/plain": [
       "       Unnamed: 0     ID                           Title  Year  Age  IMDb  \\\n",
       "0               0      1                       Inception  2010  13+   8.8   \n",
       "1               1      2                      The Matrix  1999  18+   8.7   \n",
       "2               2      3          Avengers: Infinity War  2018  13+   8.5   \n",
       "3               3      4              Back to the Future  1985   7+   8.5   \n",
       "4               4      5  The Good, the Bad and the Ugly  1966  18+   8.8   \n",
       "...           ...    ...                             ...   ...  ...   ...   \n",
       "16657       16657  16658    A Kid in King Arthur's Court  1995   7+   4.7   \n",
       "16671       16671  16672          George of the Jungle 2  2003   7+   3.3   \n",
       "16677       16677  16678                   That Darn Cat  1997   7+   4.7   \n",
       "16687       16687  16688                          Kazaam  1996   7+   3.0   \n",
       "16705       16705  16706                Meet the Deedles  1998   7+   4.1   \n",
       "\n",
       "      Rotten Tomatoes  Netflix  Hulu  Prime Video  Disney+  Type  \\\n",
       "0                 87%        1     0            0        0     0   \n",
       "1                 87%        1     0            0        0     0   \n",
       "2                 84%        1     0            0        0     0   \n",
       "3                 96%        1     0            0        0     0   \n",
       "4                 97%        1     0            1        0     0   \n",
       "...               ...      ...   ...          ...      ...   ...   \n",
       "16657              5%        0     0            0        1     0   \n",
       "16671             17%        0     0            0        1     0   \n",
       "16677             13%        0     0            0        1     0   \n",
       "16687              6%        0     0            0        1     0   \n",
       "16705              7%        0     0            0        1     0   \n",
       "\n",
       "                            Directors  \\\n",
       "0                   Christopher Nolan   \n",
       "1      Lana Wachowski,Lilly Wachowski   \n",
       "2             Anthony Russo,Joe Russo   \n",
       "3                     Robert Zemeckis   \n",
       "4                        Sergio Leone   \n",
       "...                               ...   \n",
       "16657                Michael Gottlieb   \n",
       "16671                  David Grossman   \n",
       "16677                Robert Stevenson   \n",
       "16687             Paul Michael Glaser   \n",
       "16705                     Steve Boyum   \n",
       "\n",
       "                                        Genres  \\\n",
       "0             Action,Adventure,Sci-Fi,Thriller   \n",
       "1                                Action,Sci-Fi   \n",
       "2                      Action,Adventure,Sci-Fi   \n",
       "3                      Adventure,Comedy,Sci-Fi   \n",
       "4                                      Western   \n",
       "...                                        ...   \n",
       "16657  Adventure,Comedy,Family,Fantasy,Romance   \n",
       "16671                  Adventure,Comedy,Family   \n",
       "16677             Comedy,Crime,Family,Thriller   \n",
       "16687            Comedy,Family,Fantasy,Musical   \n",
       "16705                            Comedy,Family   \n",
       "\n",
       "                                    Country                 Language  Runtime  \n",
       "0              United States,United Kingdom  English,Japanese,French    148.0  \n",
       "1                             United States                  English    136.0  \n",
       "2                             United States                  English    149.0  \n",
       "3                             United States                  English    116.0  \n",
       "4                  Italy,Spain,West Germany                  Italian    161.0  \n",
       "...                                     ...                      ...      ...  \n",
       "16657  United States,Hungary,United Kingdom                  English     89.0  \n",
       "16671               United States,Australia                  English     87.0  \n",
       "16677                         United States           English,French    116.0  \n",
       "16687                         United States                  English     93.0  \n",
       "16705                         United States                  English     93.0  \n",
       "\n",
       "[3301 rows x 17 columns]"
      ]
     },
     "execution_count": 99,
     "metadata": {},
     "output_type": "execute_result"
    }
   ],
   "source": [
    "# Creates new variable without N/A values.\n",
    "\n",
    "movie_stream_data = stream_movie.dropna(how='any')\n",
    "movie_stream_data"
   ]
  },
  {
   "cell_type": "code",
   "execution_count": 106,
   "metadata": {},
   "outputs": [
    {
     "name": "stdout",
     "output_type": "stream",
     "text": [
      "0        87.0\n",
      "1        87.0\n",
      "2        84.0\n",
      "3        96.0\n",
      "4        97.0\n",
      "         ... \n",
      "16657     5.0\n",
      "16671    17.0\n",
      "16677    13.0\n",
      "16687     6.0\n",
      "16705     7.0\n",
      "Name: RottenTomatoes, Length: 3301, dtype: float64\n"
     ]
    },
    {
     "name": "stderr",
     "output_type": "stream",
     "text": [
      "/Applications/anaconda3/lib/python3.7/site-packages/ipykernel_launcher.py:5: SettingWithCopyWarning: \n",
      "A value is trying to be set on a copy of a slice from a DataFrame.\n",
      "Try using .loc[row_indexer,col_indexer] = value instead\n",
      "\n",
      "See the caveats in the documentation: https://pandas.pydata.org/pandas-docs/stable/user_guide/indexing.html#returning-a-view-versus-a-copy\n",
      "  \"\"\"\n",
      "/Applications/anaconda3/lib/python3.7/site-packages/ipykernel_launcher.py:6: SettingWithCopyWarning: \n",
      "A value is trying to be set on a copy of a slice from a DataFrame.\n",
      "Try using .loc[row_indexer,col_indexer] = value instead\n",
      "\n",
      "See the caveats in the documentation: https://pandas.pydata.org/pandas-docs/stable/user_guide/indexing.html#returning-a-view-versus-a-copy\n",
      "  \n"
     ]
    }
   ],
   "source": [
    "# Renames 'Rotten Tomatoes' column and converts to float type.\n",
    "\n",
    "movie_stream_data.rename(columns = {\"Rotten Tomatoes\": \"RottenTomatoes\"}, inplace=True)\n",
    "print(movie_stream_data['RottenTomatoes'])\n",
    "movie_stream_data['RottenTomatoes'] = movie_stream_data['RottenTomatoes'].astype(str)\n",
    "movie_stream_data['RottenTomatoes'] = movie_stream_data['RottenTomatoes'].str.rstrip('%').astype('float')"
   ]
  },
  {
   "cell_type": "code",
   "execution_count": 107,
   "metadata": {},
   "outputs": [],
   "source": [
    "# Conducts correlation test by creating corrMatrix variable \n",
    "corrMatrix = movie_stream_data.corr()"
   ]
  },
  {
   "cell_type": "code",
   "execution_count": 108,
   "metadata": {},
   "outputs": [
    {
     "data": {
      "text/html": [
       "<div>\n",
       "<style scoped>\n",
       "    .dataframe tbody tr th:only-of-type {\n",
       "        vertical-align: middle;\n",
       "    }\n",
       "\n",
       "    .dataframe tbody tr th {\n",
       "        vertical-align: top;\n",
       "    }\n",
       "\n",
       "    .dataframe thead th {\n",
       "        text-align: right;\n",
       "    }\n",
       "</style>\n",
       "<table border=\"1\" class=\"dataframe\">\n",
       "  <thead>\n",
       "    <tr style=\"text-align: right;\">\n",
       "      <th></th>\n",
       "      <th>Unnamed: 0</th>\n",
       "      <th>ID</th>\n",
       "      <th>Year</th>\n",
       "      <th>IMDb</th>\n",
       "      <th>RottenTomatoes</th>\n",
       "      <th>Netflix</th>\n",
       "      <th>Hulu</th>\n",
       "      <th>Prime Video</th>\n",
       "      <th>Disney+</th>\n",
       "      <th>Type</th>\n",
       "      <th>Runtime</th>\n",
       "    </tr>\n",
       "  </thead>\n",
       "  <tbody>\n",
       "    <tr>\n",
       "      <th>Unnamed: 0</th>\n",
       "      <td>1.000000</td>\n",
       "      <td>1.000000</td>\n",
       "      <td>-0.272865</td>\n",
       "      <td>-0.167637</td>\n",
       "      <td>-0.156393</td>\n",
       "      <td>-0.660177</td>\n",
       "      <td>-0.128726</td>\n",
       "      <td>0.131295</td>\n",
       "      <td>0.780840</td>\n",
       "      <td>NaN</td>\n",
       "      <td>-0.161391</td>\n",
       "    </tr>\n",
       "    <tr>\n",
       "      <th>ID</th>\n",
       "      <td>1.000000</td>\n",
       "      <td>1.000000</td>\n",
       "      <td>-0.272865</td>\n",
       "      <td>-0.167637</td>\n",
       "      <td>-0.156393</td>\n",
       "      <td>-0.660177</td>\n",
       "      <td>-0.128726</td>\n",
       "      <td>0.131295</td>\n",
       "      <td>0.780840</td>\n",
       "      <td>NaN</td>\n",
       "      <td>-0.161391</td>\n",
       "    </tr>\n",
       "    <tr>\n",
       "      <th>Year</th>\n",
       "      <td>-0.272865</td>\n",
       "      <td>-0.272865</td>\n",
       "      <td>1.000000</td>\n",
       "      <td>-0.113686</td>\n",
       "      <td>-0.044080</td>\n",
       "      <td>0.261093</td>\n",
       "      <td>0.116227</td>\n",
       "      <td>-0.175024</td>\n",
       "      <td>-0.182646</td>\n",
       "      <td>NaN</td>\n",
       "      <td>0.001339</td>\n",
       "    </tr>\n",
       "    <tr>\n",
       "      <th>IMDb</th>\n",
       "      <td>-0.167637</td>\n",
       "      <td>-0.167637</td>\n",
       "      <td>-0.113686</td>\n",
       "      <td>1.000000</td>\n",
       "      <td>0.663384</td>\n",
       "      <td>0.053085</td>\n",
       "      <td>0.040980</td>\n",
       "      <td>-0.112537</td>\n",
       "      <td>0.050662</td>\n",
       "      <td>NaN</td>\n",
       "      <td>0.269437</td>\n",
       "    </tr>\n",
       "    <tr>\n",
       "      <th>RottenTomatoes</th>\n",
       "      <td>-0.156393</td>\n",
       "      <td>-0.156393</td>\n",
       "      <td>-0.044080</td>\n",
       "      <td>0.663384</td>\n",
       "      <td>1.000000</td>\n",
       "      <td>0.031590</td>\n",
       "      <td>0.059373</td>\n",
       "      <td>-0.112232</td>\n",
       "      <td>0.031392</td>\n",
       "      <td>NaN</td>\n",
       "      <td>0.090563</td>\n",
       "    </tr>\n",
       "    <tr>\n",
       "      <th>Netflix</th>\n",
       "      <td>-0.660177</td>\n",
       "      <td>-0.660177</td>\n",
       "      <td>0.261093</td>\n",
       "      <td>0.053085</td>\n",
       "      <td>0.031590</td>\n",
       "      <td>1.000000</td>\n",
       "      <td>-0.230897</td>\n",
       "      <td>-0.608931</td>\n",
       "      <td>-0.205883</td>\n",
       "      <td>NaN</td>\n",
       "      <td>0.105808</td>\n",
       "    </tr>\n",
       "    <tr>\n",
       "      <th>Hulu</th>\n",
       "      <td>-0.128726</td>\n",
       "      <td>-0.128726</td>\n",
       "      <td>0.116227</td>\n",
       "      <td>0.040980</td>\n",
       "      <td>0.059373</td>\n",
       "      <td>-0.230897</td>\n",
       "      <td>1.000000</td>\n",
       "      <td>-0.151498</td>\n",
       "      <td>-0.114548</td>\n",
       "      <td>NaN</td>\n",
       "      <td>-0.004477</td>\n",
       "    </tr>\n",
       "    <tr>\n",
       "      <th>Prime Video</th>\n",
       "      <td>0.131295</td>\n",
       "      <td>0.131295</td>\n",
       "      <td>-0.175024</td>\n",
       "      <td>-0.112537</td>\n",
       "      <td>-0.112232</td>\n",
       "      <td>-0.608931</td>\n",
       "      <td>-0.151498</td>\n",
       "      <td>1.000000</td>\n",
       "      <td>-0.351726</td>\n",
       "      <td>NaN</td>\n",
       "      <td>-0.031035</td>\n",
       "    </tr>\n",
       "    <tr>\n",
       "      <th>Disney+</th>\n",
       "      <td>0.780840</td>\n",
       "      <td>0.780840</td>\n",
       "      <td>-0.182646</td>\n",
       "      <td>0.050662</td>\n",
       "      <td>0.031392</td>\n",
       "      <td>-0.205883</td>\n",
       "      <td>-0.114548</td>\n",
       "      <td>-0.351726</td>\n",
       "      <td>1.000000</td>\n",
       "      <td>NaN</td>\n",
       "      <td>-0.071389</td>\n",
       "    </tr>\n",
       "    <tr>\n",
       "      <th>Type</th>\n",
       "      <td>NaN</td>\n",
       "      <td>NaN</td>\n",
       "      <td>NaN</td>\n",
       "      <td>NaN</td>\n",
       "      <td>NaN</td>\n",
       "      <td>NaN</td>\n",
       "      <td>NaN</td>\n",
       "      <td>NaN</td>\n",
       "      <td>NaN</td>\n",
       "      <td>NaN</td>\n",
       "      <td>NaN</td>\n",
       "    </tr>\n",
       "    <tr>\n",
       "      <th>Runtime</th>\n",
       "      <td>-0.161391</td>\n",
       "      <td>-0.161391</td>\n",
       "      <td>0.001339</td>\n",
       "      <td>0.269437</td>\n",
       "      <td>0.090563</td>\n",
       "      <td>0.105808</td>\n",
       "      <td>-0.004477</td>\n",
       "      <td>-0.031035</td>\n",
       "      <td>-0.071389</td>\n",
       "      <td>NaN</td>\n",
       "      <td>1.000000</td>\n",
       "    </tr>\n",
       "  </tbody>\n",
       "</table>\n",
       "</div>"
      ],
      "text/plain": [
       "                Unnamed: 0        ID      Year      IMDb  RottenTomatoes  \\\n",
       "Unnamed: 0        1.000000  1.000000 -0.272865 -0.167637       -0.156393   \n",
       "ID                1.000000  1.000000 -0.272865 -0.167637       -0.156393   \n",
       "Year             -0.272865 -0.272865  1.000000 -0.113686       -0.044080   \n",
       "IMDb             -0.167637 -0.167637 -0.113686  1.000000        0.663384   \n",
       "RottenTomatoes   -0.156393 -0.156393 -0.044080  0.663384        1.000000   \n",
       "Netflix          -0.660177 -0.660177  0.261093  0.053085        0.031590   \n",
       "Hulu             -0.128726 -0.128726  0.116227  0.040980        0.059373   \n",
       "Prime Video       0.131295  0.131295 -0.175024 -0.112537       -0.112232   \n",
       "Disney+           0.780840  0.780840 -0.182646  0.050662        0.031392   \n",
       "Type                   NaN       NaN       NaN       NaN             NaN   \n",
       "Runtime          -0.161391 -0.161391  0.001339  0.269437        0.090563   \n",
       "\n",
       "                 Netflix      Hulu  Prime Video   Disney+  Type   Runtime  \n",
       "Unnamed: 0     -0.660177 -0.128726     0.131295  0.780840   NaN -0.161391  \n",
       "ID             -0.660177 -0.128726     0.131295  0.780840   NaN -0.161391  \n",
       "Year            0.261093  0.116227    -0.175024 -0.182646   NaN  0.001339  \n",
       "IMDb            0.053085  0.040980    -0.112537  0.050662   NaN  0.269437  \n",
       "RottenTomatoes  0.031590  0.059373    -0.112232  0.031392   NaN  0.090563  \n",
       "Netflix         1.000000 -0.230897    -0.608931 -0.205883   NaN  0.105808  \n",
       "Hulu           -0.230897  1.000000    -0.151498 -0.114548   NaN -0.004477  \n",
       "Prime Video    -0.608931 -0.151498     1.000000 -0.351726   NaN -0.031035  \n",
       "Disney+        -0.205883 -0.114548    -0.351726  1.000000   NaN -0.071389  \n",
       "Type                 NaN       NaN          NaN       NaN   NaN       NaN  \n",
       "Runtime         0.105808 -0.004477    -0.031035 -0.071389   NaN  1.000000  "
      ]
     },
     "execution_count": 108,
     "metadata": {},
     "output_type": "execute_result"
    }
   ],
   "source": [
    "# Calls corrMatrix to produce correlation matrix \n",
    "corrMatrix"
   ]
  },
  {
   "cell_type": "code",
   "execution_count": 109,
   "metadata": {},
   "outputs": [
    {
     "data": {
      "image/png": "[encoded data removed]",
      "text/plain": [
       "<Figure size 432x288 with 2 Axes>"
      ]
     },
     "metadata": {
      "needs_background": "light"
     },
     "output_type": "display_data"
    }
   ],
   "source": [
    "# Creates heatmap of related numeric variables. \n",
    "\n",
    "sns.heatmap(movie_stream_data.corr())\n",
    "plt.title('Correlation of Numeric Streaming Variables')\n",
    "plt.show()"
   ]
  },
  {
   "cell_type": "code",
   "execution_count": 13,
   "metadata": {},
   "outputs": [
    {
     "data": {
      "image/png": "[encoded data removed]",
      "text/plain": [
       "<Figure size 432x288 with 2 Axes>"
      ]
     },
     "metadata": {
      "needs_background": "light"
     },
     "output_type": "display_data"
    }
   ],
   "source": [
    "# Creates correlation plot for all variable types. \n",
    "\n",
    "corr = movie_stream_data.corr()\n",
    "fig = plt.figure()\n",
    "ax = fig.add_subplot(111)\n",
    "cax = ax.matshow(corr,cmap='coolwarm', vmin=-1, vmax=1)\n",
    "fig.colorbar(cax)\n",
    "ticks = np.arange(0,len(movie_stream_data.columns),1)\n",
    "ax.set_xticks(ticks)\n",
    "plt.xticks(rotation=90)\n",
    "ax.set_yticks(ticks)\n",
    "ax.set_xticklabels(movie_stream_data.columns)\n",
    "ax.set_yticklabels(movie_stream_data.columns)\n",
    "plt.show()"
   ]
  },
  {
   "cell_type": "code",
   "execution_count": 14,
   "metadata": {},
   "outputs": [
    {
     "data": {
      "image/png": "[encoded data removed]",
      "text/plain": [
       "<Figure size 432x288 with 1 Axes>"
      ]
     },
     "metadata": {
      "needs_background": "light"
     },
     "output_type": "display_data"
    }
   ],
   "source": [
    "# Plots and labels histogram for number of occurrences of numeric variable 'Year' in data set.\n",
    "\n",
    "plt.hist(stream_movie.Year, bins = 5, rwidth = 0.95)\n",
    "plt.xlabel('Year', fontsize = 20)\n",
    "plt.ylabel('Value Count', fontsize = 20)\n",
    "plt.title('Number of instances of Year', fontsize = 30)\n",
    "plt.show()"
   ]
  },
  {
   "cell_type": "code",
   "execution_count": 15,
   "metadata": {},
   "outputs": [
    {
     "name": "stderr",
     "output_type": "stream",
     "text": [
      "/Applications/anaconda3/lib/python3.7/site-packages/numpy/lib/histograms.py:839: RuntimeWarning: invalid value encountered in greater_equal\n",
      "  keep = (tmp_a >= first_edge)\n",
      "/Applications/anaconda3/lib/python3.7/site-packages/numpy/lib/histograms.py:840: RuntimeWarning: invalid value encountered in less_equal\n",
      "  keep &= (tmp_a <= last_edge)\n"
     ]
    },
    {
     "data": {
      "image/png": "[encoded data removed]",
      "text/plain": [
       "<Figure size 432x288 with 1 Axes>"
      ]
     },
     "metadata": {
      "needs_background": "light"
     },
     "output_type": "display_data"
    }
   ],
   "source": [
    "# Plots and labels histogram for number of occurrences of numeric variable 'IMDB' in data set. \n",
    "\n",
    "plt.hist(stream_movie.IMDb, bins = 10, rwidth = 0.95)\n",
    "plt.xlabel('IMDb', fontsize = 20)\n",
    "plt.ylabel('Value Count', fontsize = 20)\n",
    "plt.title('Number of instances of IMDb', fontsize = 30)\n",
    "plt.show()"
   ]
  },
  {
   "cell_type": "code",
   "execution_count": 16,
   "metadata": {},
   "outputs": [
    {
     "data": {
      "image/png": "[encoded data removed]",
      "text/plain": [
       "<Figure size 432x288 with 1 Axes>"
      ]
     },
     "metadata": {
      "needs_background": "light"
     },
     "output_type": "display_data"
    }
   ],
   "source": [
    "# Plots and labels histogram for number of occurrences of numeric variable 'IMDB' in data set. \n",
    "plt.hist(movie_stream_data.Runtime, bins = 10)\n",
    "plt.xlabel('Runtime', fontsize = 20)\n",
    "plt.ylabel('Value Count', fontsize = 20)\n",
    "plt.title('Number of instances of Runtime', fontsize = 30)\n",
    "plt.show()"
   ]
  },
  {
   "cell_type": "code",
   "execution_count": 96,
   "metadata": {},
   "outputs": [
    {
     "data": {
      "image/png": "[encoded data removed]",
      "text/plain": [
       "<Figure size 432x288 with 1 Axes>"
      ]
     },
     "metadata": {
      "needs_background": "light"
     },
     "output_type": "display_data"
    }
   ],
   "source": [
    "# Plots and labels histogram for instances of 'Netflix' in data set. \n",
    "\n",
    "movie_stream_data.Netflix.hist()\n",
    "plt.xlabel('Netflix (1 = title chosen, 0 = title not chosen)', fontsize = 20)\n",
    "plt.ylabel('Value Count', fontsize = 20)\n",
    "plt.title('Number of instances of Netflix', fontsize = 30)\n",
    "plt.show()"
   ]
  },
  {
   "cell_type": "code",
   "execution_count": 110,
   "metadata": {},
   "outputs": [
    {
     "data": {
      "image/png": "[encoded data removed]",
      "text/plain": [
       "<Figure size 432x288 with 1 Axes>"
      ]
     },
     "metadata": {
      "needs_background": "light"
     },
     "output_type": "display_data"
    }
   ],
   "source": [
    "# Plots and labels number of instances of Rotten Tomatoes in data set in percentages. \n",
    "\n",
    "movie_stream_data.RottenTomatoes.hist()\n",
    "plt.xlabel('Rotten Tomatoes Score (in percentages)', fontsize = 20)\n",
    "plt.ylabel('Value Count', fontsize = 20)\n",
    "plt.title('Number of instances of Rotten Tomatoes', fontsize = 30)\n",
    "plt.show()"
   ]
  },
  {
   "cell_type": "code",
   "execution_count": 22,
   "metadata": {},
   "outputs": [
    {
     "data": {
      "text/html": [
       "<div>\n",
       "<style scoped>\n",
       "    .dataframe tbody tr th:only-of-type {\n",
       "        vertical-align: middle;\n",
       "    }\n",
       "\n",
       "    .dataframe tbody tr th {\n",
       "        vertical-align: top;\n",
       "    }\n",
       "\n",
       "    .dataframe thead th {\n",
       "        text-align: right;\n",
       "    }\n",
       "</style>\n",
       "<table border=\"1\" class=\"dataframe\">\n",
       "  <thead>\n",
       "    <tr style=\"text-align: right;\">\n",
       "      <th></th>\n",
       "      <th>Unnamed: 0</th>\n",
       "      <th>ID</th>\n",
       "      <th>Year</th>\n",
       "      <th>IMDb</th>\n",
       "      <th>RottenTomatoes</th>\n",
       "      <th>Netflix</th>\n",
       "      <th>Hulu</th>\n",
       "      <th>Prime Video</th>\n",
       "      <th>Disney+</th>\n",
       "      <th>Type</th>\n",
       "      <th>Runtime</th>\n",
       "    </tr>\n",
       "  </thead>\n",
       "  <tbody>\n",
       "    <tr>\n",
       "      <th>count</th>\n",
       "      <td>3301.000000</td>\n",
       "      <td>3301.000000</td>\n",
       "      <td>3301.000000</td>\n",
       "      <td>3301.000000</td>\n",
       "      <td>3301.000000</td>\n",
       "      <td>3301.000000</td>\n",
       "      <td>3301.000000</td>\n",
       "      <td>3301.000000</td>\n",
       "      <td>3301.000000</td>\n",
       "      <td>3301.0</td>\n",
       "      <td>3301.000000</td>\n",
       "    </tr>\n",
       "    <tr>\n",
       "      <th>mean</th>\n",
       "      <td>5239.267798</td>\n",
       "      <td>5240.267798</td>\n",
       "      <td>2006.134808</td>\n",
       "      <td>6.350530</td>\n",
       "      <td>61.139655</td>\n",
       "      <td>0.302939</td>\n",
       "      <td>0.129658</td>\n",
       "      <td>0.545895</td>\n",
       "      <td>0.101181</td>\n",
       "      <td>0.0</td>\n",
       "      <td>102.710391</td>\n",
       "    </tr>\n",
       "    <tr>\n",
       "      <th>std</th>\n",
       "      <td>4479.389204</td>\n",
       "      <td>4479.389204</td>\n",
       "      <td>14.599201</td>\n",
       "      <td>0.992021</td>\n",
       "      <td>27.119615</td>\n",
       "      <td>0.459598</td>\n",
       "      <td>0.335977</td>\n",
       "      <td>0.497965</td>\n",
       "      <td>0.301615</td>\n",
       "      <td>0.0</td>\n",
       "      <td>19.551805</td>\n",
       "    </tr>\n",
       "    <tr>\n",
       "      <th>min</th>\n",
       "      <td>0.000000</td>\n",
       "      <td>1.000000</td>\n",
       "      <td>1902.000000</td>\n",
       "      <td>1.600000</td>\n",
       "      <td>2.000000</td>\n",
       "      <td>0.000000</td>\n",
       "      <td>0.000000</td>\n",
       "      <td>0.000000</td>\n",
       "      <td>0.000000</td>\n",
       "      <td>0.0</td>\n",
       "      <td>11.000000</td>\n",
       "    </tr>\n",
       "    <tr>\n",
       "      <th>25%</th>\n",
       "      <td>1298.000000</td>\n",
       "      <td>1299.000000</td>\n",
       "      <td>2002.000000</td>\n",
       "      <td>5.700000</td>\n",
       "      <td>40.000000</td>\n",
       "      <td>0.000000</td>\n",
       "      <td>0.000000</td>\n",
       "      <td>0.000000</td>\n",
       "      <td>0.000000</td>\n",
       "      <td>0.0</td>\n",
       "      <td>91.000000</td>\n",
       "    </tr>\n",
       "    <tr>\n",
       "      <th>50%</th>\n",
       "      <td>4781.000000</td>\n",
       "      <td>4782.000000</td>\n",
       "      <td>2011.000000</td>\n",
       "      <td>6.400000</td>\n",
       "      <td>66.000000</td>\n",
       "      <td>0.000000</td>\n",
       "      <td>0.000000</td>\n",
       "      <td>1.000000</td>\n",
       "      <td>0.000000</td>\n",
       "      <td>0.0</td>\n",
       "      <td>100.000000</td>\n",
       "    </tr>\n",
       "    <tr>\n",
       "      <th>75%</th>\n",
       "      <td>6519.000000</td>\n",
       "      <td>6520.000000</td>\n",
       "      <td>2016.000000</td>\n",
       "      <td>7.100000</td>\n",
       "      <td>85.000000</td>\n",
       "      <td>1.000000</td>\n",
       "      <td>0.000000</td>\n",
       "      <td>1.000000</td>\n",
       "      <td>0.000000</td>\n",
       "      <td>0.0</td>\n",
       "      <td>111.000000</td>\n",
       "    </tr>\n",
       "    <tr>\n",
       "      <th>max</th>\n",
       "      <td>16705.000000</td>\n",
       "      <td>16706.000000</td>\n",
       "      <td>2020.000000</td>\n",
       "      <td>9.000000</td>\n",
       "      <td>100.000000</td>\n",
       "      <td>1.000000</td>\n",
       "      <td>1.000000</td>\n",
       "      <td>1.000000</td>\n",
       "      <td>1.000000</td>\n",
       "      <td>0.0</td>\n",
       "      <td>260.000000</td>\n",
       "    </tr>\n",
       "  </tbody>\n",
       "</table>\n",
       "</div>"
      ],
      "text/plain": [
       "         Unnamed: 0            ID         Year         IMDb  RottenTomatoes  \\\n",
       "count   3301.000000   3301.000000  3301.000000  3301.000000     3301.000000   \n",
       "mean    5239.267798   5240.267798  2006.134808     6.350530       61.139655   \n",
       "std     4479.389204   4479.389204    14.599201     0.992021       27.119615   \n",
       "min        0.000000      1.000000  1902.000000     1.600000        2.000000   \n",
       "25%     1298.000000   1299.000000  2002.000000     5.700000       40.000000   \n",
       "50%     4781.000000   4782.000000  2011.000000     6.400000       66.000000   \n",
       "75%     6519.000000   6520.000000  2016.000000     7.100000       85.000000   \n",
       "max    16705.000000  16706.000000  2020.000000     9.000000      100.000000   \n",
       "\n",
       "           Netflix         Hulu  Prime Video      Disney+    Type      Runtime  \n",
       "count  3301.000000  3301.000000  3301.000000  3301.000000  3301.0  3301.000000  \n",
       "mean      0.302939     0.129658     0.545895     0.101181     0.0   102.710391  \n",
       "std       0.459598     0.335977     0.497965     0.301615     0.0    19.551805  \n",
       "min       0.000000     0.000000     0.000000     0.000000     0.0    11.000000  \n",
       "25%       0.000000     0.000000     0.000000     0.000000     0.0    91.000000  \n",
       "50%       0.000000     0.000000     1.000000     0.000000     0.0   100.000000  \n",
       "75%       1.000000     0.000000     1.000000     0.000000     0.0   111.000000  \n",
       "max       1.000000     1.000000     1.000000     1.000000     0.0   260.000000  "
      ]
     },
     "execution_count": 22,
     "metadata": {},
     "output_type": "execute_result"
    }
   ],
   "source": [
    "# Displays descriptive statistics for data set. \n",
    "\n",
    "movie_stream_data.describe()"
   ]
  },
  {
   "cell_type": "code",
   "execution_count": 23,
   "metadata": {},
   "outputs": [
    {
     "data": {
      "text/plain": [
       "102.71039079066949"
      ]
     },
     "execution_count": 23,
     "metadata": {},
     "output_type": "execute_result"
    }
   ],
   "source": [
    "movie_stream_data['Runtime'].mean(skipna = True)"
   ]
  },
  {
   "cell_type": "code",
   "execution_count": 24,
   "metadata": {},
   "outputs": [
    {
     "data": {
      "text/plain": [
       "0    90.0\n",
       "dtype: float64"
      ]
     },
     "execution_count": 24,
     "metadata": {},
     "output_type": "execute_result"
    }
   ],
   "source": [
    "movie_stream_data['Runtime'].mode()"
   ]
  },
  {
   "cell_type": "code",
   "execution_count": 25,
   "metadata": {},
   "outputs": [
    {
     "data": {
      "text/plain": [
       "11.0"
      ]
     },
     "execution_count": 25,
     "metadata": {},
     "output_type": "execute_result"
    }
   ],
   "source": [
    "min(movie_stream_data['Runtime'])"
   ]
  },
  {
   "cell_type": "code",
   "execution_count": 26,
   "metadata": {},
   "outputs": [
    {
     "data": {
      "text/plain": [
       "260.0"
      ]
     },
     "execution_count": 26,
     "metadata": {},
     "output_type": "execute_result"
    }
   ],
   "source": [
    "max(movie_stream_data['Runtime'])"
   ]
  },
  {
   "cell_type": "code",
   "execution_count": 27,
   "metadata": {},
   "outputs": [
    {
     "data": {
      "text/plain": [
       "16657     89.0\n",
       "16671     87.0\n",
       "16677    116.0\n",
       "16687     93.0\n",
       "16705     93.0\n",
       "Name: Runtime, dtype: float64"
      ]
     },
     "execution_count": 27,
     "metadata": {},
     "output_type": "execute_result"
    }
   ],
   "source": [
    "movie_stream_data['Runtime'].tail()"
   ]
  },
  {
   "cell_type": "code",
   "execution_count": 28,
   "metadata": {},
   "outputs": [
    {
     "data": {
      "text/plain": [
       "2006.1348076340503"
      ]
     },
     "execution_count": 28,
     "metadata": {},
     "output_type": "execute_result"
    }
   ],
   "source": [
    "movie_stream_data['Year'].mean(skipna = True)"
   ]
  },
  {
   "cell_type": "code",
   "execution_count": 29,
   "metadata": {},
   "outputs": [
    {
     "data": {
      "text/plain": [
       "0    2017\n",
       "dtype: int64"
      ]
     },
     "execution_count": 29,
     "metadata": {},
     "output_type": "execute_result"
    }
   ],
   "source": [
    "movie_stream_data['Year'].mode()"
   ]
  },
  {
   "cell_type": "code",
   "execution_count": 30,
   "metadata": {},
   "outputs": [
    {
     "data": {
      "text/plain": [
       "1902"
      ]
     },
     "execution_count": 30,
     "metadata": {},
     "output_type": "execute_result"
    }
   ],
   "source": [
    "min(movie_stream_data['Year'])"
   ]
  },
  {
   "cell_type": "code",
   "execution_count": 31,
   "metadata": {},
   "outputs": [
    {
     "data": {
      "text/plain": [
       "2020"
      ]
     },
     "execution_count": 31,
     "metadata": {},
     "output_type": "execute_result"
    }
   ],
   "source": [
    "max(movie_stream_data['Year'])"
   ]
  },
  {
   "cell_type": "code",
   "execution_count": 32,
   "metadata": {},
   "outputs": [
    {
     "data": {
      "text/plain": [
       "16657    1995\n",
       "16671    2003\n",
       "16677    1997\n",
       "16687    1996\n",
       "16705    1998\n",
       "Name: Year, dtype: int64"
      ]
     },
     "execution_count": 32,
     "metadata": {},
     "output_type": "execute_result"
    }
   ],
   "source": [
    "movie_stream_data['Year'].tail()"
   ]
  },
  {
   "cell_type": "code",
   "execution_count": 33,
   "metadata": {},
   "outputs": [
    {
     "data": {
      "text/plain": [
       "6.350530142381098"
      ]
     },
     "execution_count": 33,
     "metadata": {},
     "output_type": "execute_result"
    }
   ],
   "source": [
    "movie_stream_data['IMDb'].mean(skipna = True)"
   ]
  },
  {
   "cell_type": "code",
   "execution_count": 34,
   "metadata": {},
   "outputs": [
    {
     "data": {
      "text/plain": [
       "0    6.2\n",
       "dtype: float64"
      ]
     },
     "execution_count": 34,
     "metadata": {},
     "output_type": "execute_result"
    }
   ],
   "source": [
    "movie_stream_data['IMDb'].mode()"
   ]
  },
  {
   "cell_type": "code",
   "execution_count": 35,
   "metadata": {},
   "outputs": [
    {
     "data": {
      "text/plain": [
       "1.6"
      ]
     },
     "execution_count": 35,
     "metadata": {},
     "output_type": "execute_result"
    }
   ],
   "source": [
    "min(movie_stream_data['IMDb'])"
   ]
  },
  {
   "cell_type": "code",
   "execution_count": 36,
   "metadata": {},
   "outputs": [
    {
     "data": {
      "text/plain": [
       "9.0"
      ]
     },
     "execution_count": 36,
     "metadata": {},
     "output_type": "execute_result"
    }
   ],
   "source": [
    "max(movie_stream_data['IMDb'])"
   ]
  },
  {
   "cell_type": "code",
   "execution_count": 37,
   "metadata": {},
   "outputs": [
    {
     "data": {
      "text/plain": [
       "16657    4.7\n",
       "16671    3.3\n",
       "16677    4.7\n",
       "16687    3.0\n",
       "16705    4.1\n",
       "Name: IMDb, dtype: float64"
      ]
     },
     "execution_count": 37,
     "metadata": {},
     "output_type": "execute_result"
    }
   ],
   "source": [
    "movie_stream_data['IMDb'].tail()"
   ]
  },
  {
   "cell_type": "code",
   "execution_count": 38,
   "metadata": {},
   "outputs": [
    {
     "data": {
      "text/plain": [
       "0    87.0\n",
       "1    87.0\n",
       "2    84.0\n",
       "3    96.0\n",
       "4    97.0\n",
       "Name: RottenTomatoes, dtype: float64"
      ]
     },
     "execution_count": 38,
     "metadata": {},
     "output_type": "execute_result"
    }
   ],
   "source": [
    "movie_stream_data['RottenTomatoes'].head()"
   ]
  },
  {
   "cell_type": "code",
   "execution_count": 39,
   "metadata": {},
   "outputs": [
    {
     "data": {
      "text/plain": [
       "61.13965465010603"
      ]
     },
     "execution_count": 39,
     "metadata": {},
     "output_type": "execute_result"
    }
   ],
   "source": [
    "movie_stream_data['RottenTomatoes'].mean()"
   ]
  },
  {
   "cell_type": "code",
   "execution_count": 40,
   "metadata": {},
   "outputs": [
    {
     "data": {
      "text/plain": [
       "0    100.0\n",
       "dtype: float64"
      ]
     },
     "execution_count": 40,
     "metadata": {},
     "output_type": "execute_result"
    }
   ],
   "source": [
    "movie_stream_data['RottenTomatoes'].mode()"
   ]
  },
  {
   "cell_type": "code",
   "execution_count": 41,
   "metadata": {},
   "outputs": [
    {
     "data": {
      "text/plain": [
       "16657     5.0\n",
       "16671    17.0\n",
       "16677    13.0\n",
       "16687     6.0\n",
       "16705     7.0\n",
       "Name: RottenTomatoes, dtype: float64"
      ]
     },
     "execution_count": 41,
     "metadata": {},
     "output_type": "execute_result"
    }
   ],
   "source": [
    "movie_stream_data['RottenTomatoes'].tail()"
   ]
  },
  {
   "cell_type": "code",
   "execution_count": 42,
   "metadata": {},
   "outputs": [
    {
     "data": {
      "text/plain": [
       "2.0"
      ]
     },
     "execution_count": 42,
     "metadata": {},
     "output_type": "execute_result"
    }
   ],
   "source": [
    "min(movie_stream_data['RottenTomatoes'])"
   ]
  },
  {
   "cell_type": "code",
   "execution_count": 43,
   "metadata": {},
   "outputs": [
    {
     "data": {
      "text/plain": [
       "100.0"
      ]
     },
     "execution_count": 43,
     "metadata": {},
     "output_type": "execute_result"
    }
   ],
   "source": [
    "max(movie_stream_data['RottenTomatoes'])"
   ]
  },
  {
   "cell_type": "code",
   "execution_count": 44,
   "metadata": {},
   "outputs": [
    {
     "data": {
      "text/plain": [
       "0    1\n",
       "1    1\n",
       "2    1\n",
       "3    1\n",
       "4    1\n",
       "Name: Netflix, dtype: int64"
      ]
     },
     "execution_count": 44,
     "metadata": {},
     "output_type": "execute_result"
    }
   ],
   "source": [
    "movie_stream_data['Netflix'].head()"
   ]
  },
  {
   "cell_type": "code",
   "execution_count": 45,
   "metadata": {},
   "outputs": [
    {
     "data": {
      "text/plain": [
       "16657    0\n",
       "16671    0\n",
       "16677    0\n",
       "16687    0\n",
       "16705    0\n",
       "Name: Netflix, dtype: int64"
      ]
     },
     "execution_count": 45,
     "metadata": {},
     "output_type": "execute_result"
    }
   ],
   "source": [
    "movie_stream_data['Netflix'].tail()"
   ]
  },
  {
   "cell_type": "code",
   "execution_count": 46,
   "metadata": {},
   "outputs": [
    {
     "data": {
      "text/plain": [
       "0.3029385034837928"
      ]
     },
     "execution_count": 46,
     "metadata": {},
     "output_type": "execute_result"
    }
   ],
   "source": [
    "movie_stream_data['Netflix'].mean()"
   ]
  },
  {
   "cell_type": "code",
   "execution_count": 47,
   "metadata": {},
   "outputs": [
    {
     "data": {
      "text/plain": [
       "0    0\n",
       "dtype: int64"
      ]
     },
     "execution_count": 47,
     "metadata": {},
     "output_type": "execute_result"
    }
   ],
   "source": [
    "movie_stream_data['Netflix'].mode()"
   ]
  },
  {
   "cell_type": "code",
   "execution_count": 48,
   "metadata": {},
   "outputs": [
    {
     "data": {
      "text/plain": [
       "0"
      ]
     },
     "execution_count": 48,
     "metadata": {},
     "output_type": "execute_result"
    }
   ],
   "source": [
    "min(movie_stream_data['Netflix'])"
   ]
  },
  {
   "cell_type": "code",
   "execution_count": 49,
   "metadata": {},
   "outputs": [
    {
     "data": {
      "text/plain": [
       "1"
      ]
     },
     "execution_count": 49,
     "metadata": {},
     "output_type": "execute_result"
    }
   ],
   "source": [
    "max(movie_stream_data['Netflix'])"
   ]
  },
  {
   "cell_type": "code",
   "execution_count": 50,
   "metadata": {},
   "outputs": [
    {
     "data": {
      "image/png": "[encoded data removed]",
      "text/plain": [
       "<Figure size 432x288 with 1 Axes>"
      ]
     },
     "metadata": {
      "needs_background": "light"
     },
     "output_type": "display_data"
    }
   ],
   "source": [
    "plt.plot(movie_stream_data.IMDb, movie_stream_data.Year, 'o', color = 'black')\n",
    "plt.xlabel('IMDb', fontsize = 20)\n",
    "plt.ylabel('Year', fontsize = 20)\n",
    "plt.title('Year vs. IMDb', fontsize = 30)\n",
    "plt.show()"
   ]
  },
  {
   "cell_type": "code",
   "execution_count": 51,
   "metadata": {},
   "outputs": [
    {
     "data": {
      "image/png": "[encoded data removed]",
      "text/plain": [
       "<Figure size 432x288 with 1 Axes>"
      ]
     },
     "metadata": {
      "needs_background": "light"
     },
     "output_type": "display_data"
    }
   ],
   "source": [
    "plt.plot(movie_stream_data.IMDb, movie_stream_data.Runtime, 'o', color = 'black')\n",
    "plt.xlabel('IMDb', fontsize = 20)\n",
    "plt.ylabel('Runtime', fontsize = 20)\n",
    "plt.title('Runtime vs. IMDB', fontsize = 30)\n",
    "plt.show()"
   ]
  },
  {
   "cell_type": "code",
   "execution_count": 52,
   "metadata": {},
   "outputs": [
    {
     "data": {
      "image/png": "[encoded data removed]",
      "text/plain": [
       "<Figure size 432x288 with 1 Axes>"
      ]
     },
     "metadata": {
      "needs_background": "light"
     },
     "output_type": "display_data"
    }
   ],
   "source": [
    "sns.distplot(movie_stream_data['IMDb'], kde = True, bins = 40)\n",
    "plt.xlabel('IMDb', fontsize = 20)\n",
    "plt.ylabel('Value Count', fontsize = 20)\n",
    "plt.title('Normal Distrubtion of IMDB', fontsize = 30)\n",
    "plt.show()"
   ]
  },
  {
   "cell_type": "code",
   "execution_count": 53,
   "metadata": {},
   "outputs": [
    {
     "data": {
      "text/plain": [
       "<seaborn.axisgrid.JointGrid at 0x1a1da979d0>"
      ]
     },
     "execution_count": 53,
     "metadata": {},
     "output_type": "execute_result"
    },
    {
     "data": {
      "image/png": "[encoded data removed]",
      "text/plain": [
       "<Figure size 432x432 with 3 Axes>"
      ]
     },
     "metadata": {
      "needs_background": "light"
     },
     "output_type": "display_data"
    }
   ],
   "source": [
    "# Creates joint regression plot. \n",
    "\n",
    "sns.jointplot(x = 'IMDb', y = 'Year', data = movie_stream_data, kind = 'reg')"
   ]
  },
  {
   "cell_type": "code",
   "execution_count": 54,
   "metadata": {},
   "outputs": [],
   "source": [
    "# Creates PMF variable.\n",
    "\n",
    "pmf = movie_stream_data.IMDb.value_counts().sort_index() / len(movie_stream_data.IMDb)"
   ]
  },
  {
   "cell_type": "code",
   "execution_count": 55,
   "metadata": {},
   "outputs": [
    {
     "data": {
      "text/plain": [
       "1.6    0.000303\n",
       "2.4    0.000606\n",
       "2.5    0.000606\n",
       "2.8    0.000606\n",
       "2.9    0.001515\n",
       "         ...   \n",
       "8.5    0.003332\n",
       "8.6    0.001212\n",
       "8.7    0.001212\n",
       "8.8    0.000606\n",
       "9.0    0.000303\n",
       "Name: IMDb, Length: 64, dtype: float64"
      ]
     },
     "execution_count": 55,
     "metadata": {},
     "output_type": "execute_result"
    }
   ],
   "source": [
    "pmf"
   ]
  },
  {
   "cell_type": "code",
   "execution_count": 91,
   "metadata": {},
   "outputs": [
    {
     "data": {
      "image/png": "[encoded data removed]",
      "text/plain": [
       "<Figure size 432x288 with 1 Axes>"
      ]
     },
     "metadata": {
      "needs_background": "light"
     },
     "output_type": "display_data"
    }
   ],
   "source": [
    "# Plots probability mass function on line graph. \n",
    "\n",
    "pmf.plot(kind = 'line')\n",
    "plt.xlabel('IMDb', fontsize = 20)\n",
    "plt.ylabel('Probability', fontsize = 20)\n",
    "plt.title('Probability of Obtaining IMDB Rating Over 5', fontsize = 30)\n",
    "plt.show()"
   ]
  },
  {
   "cell_type": "code",
   "execution_count": 57,
   "metadata": {},
   "outputs": [],
   "source": [
    "# Creates second PMF. \n",
    "pmf_2 = movie_stream_data.Runtime.value_counts().sort_index() / len(stream_movie.Runtime)"
   ]
  },
  {
   "cell_type": "code",
   "execution_count": 58,
   "metadata": {},
   "outputs": [
    {
     "data": {
      "text/plain": [
       "11.0     0.000060\n",
       "13.0     0.000060\n",
       "17.0     0.000060\n",
       "22.0     0.000060\n",
       "26.0     0.000060\n",
       "           ...   \n",
       "209.0    0.000060\n",
       "210.0    0.000119\n",
       "213.0    0.000060\n",
       "224.0    0.000060\n",
       "260.0    0.000060\n",
       "Name: Runtime, Length: 145, dtype: float64"
      ]
     },
     "execution_count": 58,
     "metadata": {},
     "output_type": "execute_result"
    }
   ],
   "source": [
    "pmf_2"
   ]
  },
  {
   "cell_type": "code",
   "execution_count": 59,
   "metadata": {},
   "outputs": [
    {
     "data": {
      "image/png": "[encoded data removed]",
      "text/plain": [
       "<Figure size 432x288 with 1 Axes>"
      ]
     },
     "metadata": {
      "needs_background": "light"
     },
     "output_type": "display_data"
    }
   ],
   "source": [
    "# Plots PMF on line graph. \n",
    "pmf_2.plot(kind = 'line')\n",
    "plt.xlabel('Runtime', fontsize = 20)\n",
    "plt.ylabel('Probability', fontsize = 20)\n",
    "plt.title('Probability of Runtime Over 100 Minutes', fontsize = 30)\n",
    "plt.show()"
   ]
  },
  {
   "cell_type": "code",
   "execution_count": 60,
   "metadata": {},
   "outputs": [],
   "source": [
    "counts, bin_edges = np.histogram(stream_movie['Year'], bins = 10, density = True)"
   ]
  },
  {
   "cell_type": "code",
   "execution_count": 61,
   "metadata": {},
   "outputs": [],
   "source": [
    "pdf = counts/(sum(counts))"
   ]
  },
  {
   "cell_type": "code",
   "execution_count": 62,
   "metadata": {},
   "outputs": [
    {
     "name": "stdout",
     "output_type": "stream",
     "text": [
      "[2.38891543e-04 2.15002389e-03 1.70210225e-02 2.74725275e-02\n",
      " 2.35905399e-02 3.29670330e-02 5.28547539e-02 6.14548495e-02\n",
      " 1.66387960e-01 6.15862398e-01]\n",
      "[1902.  1913.8 1925.6 1937.4 1949.2 1961.  1972.8 1984.6 1996.4 2008.2\n",
      " 2020. ]\n"
     ]
    }
   ],
   "source": [
    "print(pdf)\n",
    "print(bin_edges)"
   ]
  },
  {
   "cell_type": "code",
   "execution_count": 63,
   "metadata": {},
   "outputs": [],
   "source": [
    "cdf = np.cumsum(pdf)"
   ]
  },
  {
   "cell_type": "code",
   "execution_count": 64,
   "metadata": {},
   "outputs": [
    {
     "data": {
      "image/png": "[encoded data removed]",
      "text/plain": [
       "<Figure size 432x288 with 1 Axes>"
      ]
     },
     "metadata": {
      "needs_background": "light"
     },
     "output_type": "display_data"
    }
   ],
   "source": [
    "# Plots PDF vs. CDF \n",
    "plt.plot(bin_edges[1:], pdf)\n",
    "plt.plot(bin_edges[1:], cdf)\n",
    "plt.xlabel('Year', fontsize = 20)\n",
    "plt.ylabel('Probability', fontsize = 20)\n",
    "plt.title('Observed vs. Expected: Year', fontsize = 30)\n",
    "plt.show()"
   ]
  },
  {
   "cell_type": "code",
   "execution_count": 65,
   "metadata": {},
   "outputs": [],
   "source": [
    "# Creates y axis variable for scatter plot. \n",
    "y = movie_stream_data['Year']"
   ]
  },
  {
   "cell_type": "code",
   "execution_count": 66,
   "metadata": {},
   "outputs": [],
   "source": [
    "# Creates x axis variable for scatter plot. \n",
    "x1 = movie_stream_data['IMDb']"
   ]
  },
  {
   "cell_type": "code",
   "execution_count": 67,
   "metadata": {},
   "outputs": [
    {
     "data": {
      "image/png": "[encoded data removed]",
      "text/plain": [
       "<Figure size 432x288 with 1 Axes>"
      ]
     },
     "metadata": {
      "needs_background": "light"
     },
     "output_type": "display_data"
    }
   ],
   "source": [
    "# Creates scatter plot of Year vs. IMDB. \n",
    "\n",
    "plt.scatter(x1, y)\n",
    "plt.xlabel('IMDb', fontsize = 20)\n",
    "plt.ylabel('Year', fontsize = 20)\n",
    "plt.title('Year vs. IMDB', fontsize = 30)\n",
    "plt.show()"
   ]
  },
  {
   "cell_type": "code",
   "execution_count": 68,
   "metadata": {},
   "outputs": [],
   "source": [
    "# Creates training data set for linear model. \n",
    "\n",
    "train = movie_stream_data.sample(frac=0.8, random_state=200)"
   ]
  },
  {
   "cell_type": "code",
   "execution_count": 69,
   "metadata": {},
   "outputs": [
    {
     "data": {
      "text/plain": [
       "Int64Index([ 4047,  4623,   493,  5697,     4,  5022, 16370,  5219,  1442,\n",
       "             3577,\n",
       "            ...\n",
       "             3633,   482,  5727, 16497,  5318,  4476,   624, 16423, 16405,\n",
       "             1355],\n",
       "           dtype='int64', length=2641)"
      ]
     },
     "execution_count": 69,
     "metadata": {},
     "output_type": "execute_result"
    }
   ],
   "source": [
    "# Indexes training data set. \n",
    "\n",
    "train.index"
   ]
  },
  {
   "cell_type": "code",
   "execution_count": 70,
   "metadata": {},
   "outputs": [],
   "source": [
    "# Creates test data set. \n",
    "\n",
    "test = movie_stream_data.drop(train.index)"
   ]
  },
  {
   "cell_type": "code",
   "execution_count": 71,
   "metadata": {},
   "outputs": [],
   "source": [
    "# Defines dependent variable \n",
    "\n",
    "depd = train[['Year']]"
   ]
  },
  {
   "cell_type": "code",
   "execution_count": 72,
   "metadata": {},
   "outputs": [
    {
     "data": {
      "text/plain": [
       "LinearRegression(copy_X=True, fit_intercept=True, n_jobs=None, normalize=False)"
      ]
     },
     "execution_count": 72,
     "metadata": {},
     "output_type": "execute_result"
    }
   ],
   "source": [
    "# Creates and fits linear model using linear regression methodology. \n",
    "\n",
    "split_movie_model = linear_model.LinearRegression()\n",
    "split_movie_model.fit(X = depd, y = train['IMDb'])"
   ]
  },
  {
   "cell_type": "code",
   "execution_count": 73,
   "metadata": {},
   "outputs": [
    {
     "data": {
      "text/plain": [
       "array([-0.00700743])"
      ]
     },
     "execution_count": 73,
     "metadata": {},
     "output_type": "execute_result"
    }
   ],
   "source": [
    "split_movie_model.coef_"
   ]
  },
  {
   "cell_type": "code",
   "execution_count": 74,
   "metadata": {},
   "outputs": [
    {
     "data": {
      "text/plain": [
       "20.416020225825612"
      ]
     },
     "execution_count": 74,
     "metadata": {},
     "output_type": "execute_result"
    }
   ],
   "source": [
    "split_movie_model.intercept_"
   ]
  },
  {
   "cell_type": "code",
   "execution_count": 75,
   "metadata": {},
   "outputs": [
    {
     "data": {
      "text/plain": [
       "0.010643664269073483"
      ]
     },
     "execution_count": 75,
     "metadata": {},
     "output_type": "execute_result"
    }
   ],
   "source": [
    "# Produces overall accuracy score of linear model \n",
    "split_movie_model.score(X = depd, y = train['IMDb'])"
   ]
  },
  {
   "cell_type": "code",
   "execution_count": 76,
   "metadata": {},
   "outputs": [],
   "source": [
    "# Repeats linear regression test for Runtime ~ IMDb. \n",
    "\n",
    "train = movie_stream_data.sample(frac=0.8, random_state=200)"
   ]
  },
  {
   "cell_type": "code",
   "execution_count": 77,
   "metadata": {},
   "outputs": [
    {
     "data": {
      "text/plain": [
       "Int64Index([ 4047,  4623,   493,  5697,     4,  5022, 16370,  5219,  1442,\n",
       "             3577,\n",
       "            ...\n",
       "             3633,   482,  5727, 16497,  5318,  4476,   624, 16423, 16405,\n",
       "             1355],\n",
       "           dtype='int64', length=2641)"
      ]
     },
     "execution_count": 77,
     "metadata": {},
     "output_type": "execute_result"
    }
   ],
   "source": [
    "train.index"
   ]
  },
  {
   "cell_type": "code",
   "execution_count": 78,
   "metadata": {},
   "outputs": [],
   "source": [
    "test = movie_stream_data.drop(train.index)"
   ]
  },
  {
   "cell_type": "code",
   "execution_count": 79,
   "metadata": {},
   "outputs": [],
   "source": [
    "depd = train[['Runtime']]"
   ]
  },
  {
   "cell_type": "code",
   "execution_count": 80,
   "metadata": {},
   "outputs": [
    {
     "data": {
      "text/plain": [
       "LinearRegression(copy_X=True, fit_intercept=True, n_jobs=None, normalize=False)"
      ]
     },
     "execution_count": 80,
     "metadata": {},
     "output_type": "execute_result"
    }
   ],
   "source": [
    "split_movie_model_2 = linear_model.LinearRegression()\n",
    "split_movie_model_2.fit(X = depd, y = train['IMDb'])"
   ]
  },
  {
   "cell_type": "code",
   "execution_count": 81,
   "metadata": {},
   "outputs": [
    {
     "data": {
      "text/plain": [
       "array([0.0143464])"
      ]
     },
     "execution_count": 81,
     "metadata": {},
     "output_type": "execute_result"
    }
   ],
   "source": [
    "split_movie_model_2.coef_"
   ]
  },
  {
   "cell_type": "code",
   "execution_count": 82,
   "metadata": {},
   "outputs": [
    {
     "data": {
      "text/plain": [
       "4.8856996079549"
      ]
     },
     "execution_count": 82,
     "metadata": {},
     "output_type": "execute_result"
    }
   ],
   "source": [
    "split_movie_model_2.intercept_"
   ]
  },
  {
   "cell_type": "code",
   "execution_count": 83,
   "metadata": {},
   "outputs": [
    {
     "data": {
      "text/plain": [
       "0.0810311458338695"
      ]
     },
     "execution_count": 83,
     "metadata": {},
     "output_type": "execute_result"
    }
   ],
   "source": [
    "split_movie_model_2.score(X = depd, y = train['IMDb'])"
   ]
  },
  {
   "cell_type": "code",
   "execution_count": 84,
   "metadata": {},
   "outputs": [],
   "source": [
    "train = movie_stream_data.sample(frac=0.8, random_state=200)"
   ]
  },
  {
   "cell_type": "code",
   "execution_count": 85,
   "metadata": {},
   "outputs": [
    {
     "data": {
      "text/plain": [
       "Int64Index([ 4047,  4623,   493,  5697,     4,  5022, 16370,  5219,  1442,\n",
       "             3577,\n",
       "            ...\n",
       "             3633,   482,  5727, 16497,  5318,  4476,   624, 16423, 16405,\n",
       "             1355],\n",
       "           dtype='int64', length=2641)"
      ]
     },
     "execution_count": 85,
     "metadata": {},
     "output_type": "execute_result"
    }
   ],
   "source": [
    "train.index"
   ]
  },
  {
   "cell_type": "code",
   "execution_count": 86,
   "metadata": {},
   "outputs": [],
   "source": [
    "# Repeats linear regression test for Year ~ Rotten Tomatoes. \n",
    "test = movie_stream_data.drop(train.index)"
   ]
  },
  {
   "cell_type": "code",
   "execution_count": 87,
   "metadata": {},
   "outputs": [],
   "source": [
    "depd = train[['Year']]"
   ]
  },
  {
   "cell_type": "code",
   "execution_count": 88,
   "metadata": {},
   "outputs": [
    {
     "data": {
      "text/plain": [
       "LinearRegression(copy_X=True, fit_intercept=True, n_jobs=None, normalize=False)"
      ]
     },
     "execution_count": 88,
     "metadata": {},
     "output_type": "execute_result"
    }
   ],
   "source": [
    "split_movie_model_3 = linear_model.LinearRegression()\n",
    "split_movie_model_3.fit(X = depd, y = train['RottenTomatoes'])"
   ]
  },
  {
   "cell_type": "code",
   "execution_count": 111,
   "metadata": {},
   "outputs": [
    {
     "data": {
      "text/plain": [
       "array([-0.08624816])"
      ]
     },
     "execution_count": 111,
     "metadata": {},
     "output_type": "execute_result"
    }
   ],
   "source": [
    "split_movie_model_3.coef_"
   ]
  },
  {
   "cell_type": "code",
   "execution_count": 112,
   "metadata": {},
   "outputs": [
    {
     "data": {
      "text/plain": [
       "234.29049913602643"
      ]
     },
     "execution_count": 112,
     "metadata": {},
     "output_type": "execute_result"
    }
   ],
   "source": [
    "split_movie_model_3.intercept_"
   ]
  },
  {
   "cell_type": "code",
   "execution_count": 89,
   "metadata": {},
   "outputs": [
    {
     "data": {
      "text/plain": [
       "0.002160606206566773"
      ]
     },
     "execution_count": 89,
     "metadata": {},
     "output_type": "execute_result"
    }
   ],
   "source": [
    "split_movie_model_3.score(X = depd, y = train['RottenTomatoes'])"
   ]
  }
 ],
 "metadata": {
  "kernelspec": {
   "display_name": "Python 3",
   "language": "python",
   "name": "python3"
  },
  "language_info": {
   "codemirror_mode": {
    "name": "ipython",
    "version": 3
   },
   "file_extension": ".py",
   "mimetype": "text/x-python",
   "name": "python",
   "nbconvert_exporter": "python",
   "pygments_lexer": "ipython3",
   "version": "3.7.6"
  }
 },
 "nbformat": 4,
 "nbformat_minor": 4
}
